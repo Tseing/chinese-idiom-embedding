{
 "cells": [
  {
   "cell_type": "code",
   "execution_count": 1,
   "metadata": {},
   "outputs": [],
   "source": [
    "import shutil\n",
    "import matplotlib\n",
    "import matplotlib.font_manager as fm"
   ]
  },
  {
   "cell_type": "code",
   "execution_count": 5,
   "metadata": {},
   "outputs": [],
   "source": [
    "# Deleting cache and restart kernel\n",
    "shutil.rmtree(matplotlib.get_cachedir())"
   ]
  },
  {
   "cell_type": "code",
   "execution_count": 2,
   "metadata": {},
   "outputs": [
    {
     "data": {
      "text/plain": [
       "[FontEntry(fname='/home/ma-user/anaconda3/envs/chinese-idiom/lib/python3.9/site-packages/matplotlib/mpl-data/fonts/ttf/NotoSansCJKsc-Medium.otf', name='Noto Sans CJK SC', style='normal', variant='normal', weight=500, stretch='normal', size='scalable'),\n",
       " FontEntry(fname='/home/ma-user/anaconda3/envs/chinese-idiom/lib/python3.9/site-packages/matplotlib/mpl-data/fonts/ttf/NotoSansCJKsc-Light.otf', name='Noto Sans CJK SC', style='normal', variant='normal', weight=300, stretch='normal', size='scalable'),\n",
       " FontEntry(fname='/home/ma-user/anaconda3/envs/chinese-idiom/lib/python3.9/site-packages/matplotlib/mpl-data/fonts/ttf/NotoSansCJKsc-DemiLight.otf', name='Noto Sans CJK SC', style='normal', variant='normal', weight=350, stretch='normal', size='scalable'),\n",
       " FontEntry(fname='/home/ma-user/anaconda3/envs/chinese-idiom/lib/python3.9/site-packages/matplotlib/mpl-data/fonts/ttf/NotoSansCJKsc-Black.otf', name='Noto Sans CJK SC', style='normal', variant='normal', weight=900, stretch='normal', size='scalable'),\n",
       " FontEntry(fname='/home/ma-user/anaconda3/envs/chinese-idiom/lib/python3.9/site-packages/matplotlib/mpl-data/fonts/ttf/NotoSansCJKsc-Thin.otf', name='Noto Sans CJK SC', style='normal', variant='normal', weight=100, stretch='normal', size='scalable'),\n",
       " FontEntry(fname='/home/ma-user/anaconda3/envs/chinese-idiom/lib/python3.9/site-packages/matplotlib/mpl-data/fonts/ttf/NotoSansCJKsc-Regular.otf', name='Noto Sans CJK SC', style='normal', variant='normal', weight=400, stretch='normal', size='scalable'),\n",
       " FontEntry(fname='/home/ma-user/anaconda3/envs/chinese-idiom/lib/python3.9/site-packages/matplotlib/mpl-data/fonts/ttf/NotoSansCJKsc-Bold.otf', name='Noto Sans CJK SC', style='normal', variant='normal', weight=700, stretch='normal', size='scalable')]"
      ]
     },
     "execution_count": 2,
     "metadata": {},
     "output_type": "execute_result"
    }
   ],
   "source": [
    "[f for f in fm.fontManager.ttflist if 'Noto' in f.name]"
   ]
  }
 ],
 "metadata": {
  "kernelspec": {
   "display_name": "chinese-idiom",
   "language": "python",
   "name": "python3"
  },
  "language_info": {
   "codemirror_mode": {
    "name": "ipython",
    "version": 3
   },
   "file_extension": ".py",
   "mimetype": "text/x-python",
   "name": "python",
   "nbconvert_exporter": "python",
   "pygments_lexer": "ipython3",
   "version": "3.9.18"
  }
 },
 "nbformat": 4,
 "nbformat_minor": 2
}
